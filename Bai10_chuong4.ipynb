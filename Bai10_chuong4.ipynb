{
  "nbformat": 4,
  "nbformat_minor": 0,
  "metadata": {
    "colab": {
      "name": "Bai10.chuong4.ipynb",
      "provenance": [],
      "authorship_tag": "ABX9TyMhFtT6tSFoIkyWsRulc9vW",
      "include_colab_link": true
    },
    "kernelspec": {
      "name": "python3",
      "display_name": "Python 3"
    }
  },
  "cells": [
    {
      "cell_type": "markdown",
      "metadata": {
        "id": "view-in-github",
        "colab_type": "text"
      },
      "source": [
        "<a href=\"https://colab.research.google.com/github/nguyenminhhieu3004/hieu3004/blob/main/Bai10_chuong4.ipynb\" target=\"_parent\"><img src=\"https://colab.research.google.com/assets/colab-badge.svg\" alt=\"Open In Colab\"/></a>"
      ]
    },
    {
      "cell_type": "code",
      "metadata": {
        "id": "DR_OPiIFAGfj"
      },
      "source": [
        ""
      ],
      "execution_count": null,
      "outputs": []
    },
    {
      "cell_type": "markdown",
      "metadata": {
        "id": "WSRNU6c0AHtl"
      },
      "source": [
        "Bài 10:"
      ]
    },
    {
      "cell_type": "code",
      "metadata": {
        "colab": {
          "base_uri": "https://localhost:8080/",
          "height": 128
        },
        "id": "0WTrzJhPAMGH",
        "outputId": "50162071-e757-4639-c01b-e90f95f11fd0"
      },
      "source": [
        "1.Numpy:\n",
        "\n",
        "  #- Tạo ma trận:\n",
        "import numpy as np\n",
        "a = np.array(([(2,3,4), (4,6,8)],\n",
        "              [(2,6,2), (3,6,2)],\n",
        "              [(4,6,2), (4,7,0,)]), dtype = int)\n",
        "print(\"Ma trận A= \",a)\n",
        "\n",
        "  #- Tính tổng 2 ma trận:\n",
        "import numpy as np\n",
        "a = np.array(([(2,3,6), (2,8,4)]), dtype = int)\n",
        "b = np.array(([(2,9,1), (7,5,8)]), dtype = int)\n",
        "print(\"ma trận A= \",a)\n",
        "print(\"ma Trận B= \",b)\n",
        "print(\"ma trận A+B= \", a+b)\n",
        "\n",
        "  #- Tính tích 2 ma trận:\n",
        "import numpy as np\n",
        "a = np.array(([((1,2),(3,4)), ((5,3),(7,4))]), dtype = int)\n",
        "b = np.array(([(5,7,7), (6,7,2)]), dtype = int)\n",
        "print(\"ma trận C= \",a)\n",
        "print(\"ma trận D= \",b)\n",
        "print(\"ma trận C*D= \", a @ b)\n",
        "\n",
        "  #- tính chuyển vị ma trận:\n",
        "import numpy as np\n",
        "a = np.array(([(4,5,2),(2,7,2)]), dtype = int)\n",
        "b = np.transpose(a)\n",
        "print(\"ma trận A= \", a)\n",
        "print(\"ma trận chuyển vị of A\", b)\n",
        "\n",
        "#2. Matplotlib:\n",
        "\n",
        "  #- đồ thị hình column:\n",
        "import matplotlib.pyplot as plt\n",
        "divisions = [\"Banana\", \"Apple\", \"grapes\", \"oranges\",\"Dragon Fruit\"]\n",
        "divisions_average_marks = [86,45,70,23,95]\n",
        "plt.bar(divisions, divisions_average_marks, color = 'red')\n",
        "plt.title(\"Trung bình mỗi người ăn hoa quả trong 1 năm\")\n",
        "plt.xlabel(\"Name hoa quả\")\n",
        "plt.ylabel(\"%\")\n",
        "plt.show()\n",
        "\n",
        "#- đồ thị hình bar\n",
        "import matplotlib.pyplot as plt\n",
        "divisions = [\"iphone 12\", \"iphone 12 pro max\", \"iphone 11\", \"iphone 6\", \"iphone 5\", \"iphone x\"]\n",
        "divisions_average_marks = [70,50,60,80,40,66]\n",
        "vietnam_average_marks = [60,30,59,38,56,70]\n",
        "index = np.arange(6)\n",
        "width = 0.30\n",
        "plt.bar(index, divisions_average_marks, width, color = 'blue', label = 'Mỹ')\n",
        "plt.bar(index+width, vietnam_average_marks, width, color = 'red', lable = 'Việt Nam')\n",
        "plt.title(\"Trung bình mỗi người mua iphone trong 1 năm\")\n",
        "plt.xlabel(\"Các loại iphone\")\n",
        "plt.ylabel(\"%\")\n",
        "plt.xticks(index+width/2, divisions)\n",
        "plt.legend(loc = 'best') \n",
        "plt.show()"
      ],
      "execution_count": 1,
      "outputs": [
        {
          "output_type": "error",
          "ename": "SyntaxError",
          "evalue": "ignored",
          "traceback": [
            "\u001b[0;36m  File \u001b[0;32m\"<ipython-input-1-f6c542f8799f>\"\u001b[0;36m, line \u001b[0;32m1\u001b[0m\n\u001b[0;31m    1.Numpy:\u001b[0m\n\u001b[0m          ^\u001b[0m\n\u001b[0;31mSyntaxError\u001b[0m\u001b[0;31m:\u001b[0m invalid syntax\n"
          ]
        }
      ]
    }
  ]
}