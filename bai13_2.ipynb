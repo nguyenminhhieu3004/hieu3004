{
  "nbformat": 4,
  "nbformat_minor": 0,
  "metadata": {
    "kernelspec": {
      "display_name": "Python 3",
      "language": "python",
      "name": "python3"
    },
    "language_info": {
      "codemirror_mode": {
        "name": "ipython",
        "version": 3
      },
      "file_extension": ".py",
      "mimetype": "text/x-python",
      "name": "python",
      "nbconvert_exporter": "python",
      "pygments_lexer": "ipython3",
      "version": "3.8.3"
    },
    "colab": {
      "name": "bai13.2.ipynb",
      "provenance": [],
      "include_colab_link": true
    }
  },
  "cells": [
    {
      "cell_type": "markdown",
      "metadata": {
        "id": "view-in-github",
        "colab_type": "text"
      },
      "source": [
        "<a href=\"https://colab.research.google.com/github/nguyenminhhieu3004/hieu3004/blob/main/bai13_2.ipynb\" target=\"_parent\"><img src=\"https://colab.research.google.com/assets/colab-badge.svg\" alt=\"Open In Colab\"/></a>"
      ]
    },
    {
      "cell_type": "markdown",
      "metadata": {
        "id": "i0bJUmFn3UoG"
      },
      "source": [
        "# 13.2.1: Nhập tên thư mục từ bàn phím và tạo thư mục."
      ]
    },
    {
      "cell_type": "code",
      "metadata": {
        "id": "6kSbIaxl3UoG",
        "outputId": "f32a9ff8-7d7a-4645-e5b9-7d2f5828ff9b"
      },
      "source": [
        "import os\n",
        "path = 'E:\\\\'\n",
        "os.chdir(path)\n",
        "print(os.listdir(path))\n",
        "os.mkdir('hieudepzai')\n",
        "print(os.listdir(path))"
      ],
      "execution_count": null,
      "outputs": [
        {
          "output_type": "stream",
          "text": [
            "['$RECYCLE.BIN', 'program files', 'System Volume Information', 'tai', 'Temp']\n",
            "['$RECYCLE.BIN', 'hieudepzai', 'program files', 'System Volume Information', 'tai', 'Temp']\n"
          ],
          "name": "stdout"
        }
      ]
    },
    {
      "cell_type": "markdown",
      "metadata": {
        "id": "bTFJIc5H3UoI"
      },
      "source": [
        "# 13.2.2: Nhập tên tập tin từ bàn phím và tạo tập tin vào thư mục mới tạo ở trên:\n"
      ]
    },
    {
      "cell_type": "markdown",
      "metadata": {
        "id": "Wal5Wcw03UoI"
      },
      "source": [
        "# # 13.2.2A: Tạo tệp tin."
      ]
    },
    {
      "cell_type": "code",
      "metadata": {
        "id": "0khVeJar3UoI",
        "outputId": "4f5e45c2-32d4-4131-b605-9120eb078119"
      },
      "source": [
        "import os\n",
        "a = open(\"leaderhieudepzai.txt\",\"x\")\n",
        "a.close()\n",
        "print(\"Đã tạo tệp tin thành công và được lưu ở ổ đĩa phía dưới:\")\n",
        "print(os.getcwd())"
      ],
      "execution_count": null,
      "outputs": [
        {
          "output_type": "stream",
          "text": [
            "Đã tạo tệp tin thành công và được lưu ở ổ đĩa phía dưới:\n",
            "E:\\\n"
          ],
          "name": "stdout"
        }
      ]
    },
    {
      "cell_type": "markdown",
      "metadata": {
        "id": "Z5ljD0Mc3UoI"
      },
      "source": [
        " # 13.2.2B: Di truyển tập tin vừa mới tạo vào thư mục ở trên.# "
      ]
    },
    {
      "cell_type": "code",
      "metadata": {
        "id": "T_fvYtJW3UoJ",
        "outputId": "09b37bdd-04ab-45d9-d8cd-aa7dd7f5bfeb"
      },
      "source": [
        "import os\n",
        "import shutil\n",
        "shutil.move(\"E:/leaderhieudepzai.txt\",\"E://hieudepzai\")"
      ],
      "execution_count": null,
      "outputs": [
        {
          "output_type": "execute_result",
          "data": {
            "text/plain": [
              "'E://hieudepzai\\\\leaderhieudepzai.txt'"
            ]
          },
          "metadata": {
            "tags": []
          },
          "execution_count": 4
        }
      ]
    }
  ]
}