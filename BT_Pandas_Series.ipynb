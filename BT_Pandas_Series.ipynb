{
  "nbformat": 4,
  "nbformat_minor": 0,
  "metadata": {
    "colab": {
      "name": "BT_Pandas_Series.ipynb",
      "provenance": [],
      "authorship_tag": "ABX9TyNYGjgsftTD6ILlWGXzWS7p",
      "include_colab_link": true
    },
    "kernelspec": {
      "name": "python3",
      "display_name": "Python 3"
    }
  },
  "cells": [
    {
      "cell_type": "markdown",
      "metadata": {
        "id": "view-in-github",
        "colab_type": "text"
      },
      "source": [
        "<a href=\"https://colab.research.google.com/github/nguyenminhhieu3004/hieu3004/blob/main/BT_Pandas_Series.ipynb\" target=\"_parent\"><img src=\"https://colab.research.google.com/assets/colab-badge.svg\" alt=\"Open In Colab\"/></a>"
      ]
    },
    {
      "cell_type": "markdown",
      "metadata": {
        "id": "vEmqUJsse596"
      },
      "source": [
        "Câu 1: Hãy tạo 1 đối tượng kiểu Series có tối thiểu 10 phần tử (kiểu số) với giá trị tùy ý thích của bạn. In giá trị của Series đó ra màn hình"
      ]
    },
    {
      "cell_type": "code",
      "metadata": {
        "id": "EQHdQw8Vj73i"
      },
      "source": [
        "import numpy as np\r\n",
        "import pandas as pd"
      ],
      "execution_count": null,
      "outputs": []
    },
    {
      "cell_type": "code",
      "metadata": {
        "colab": {
          "base_uri": "https://localhost:8080/"
        },
        "id": "eT0Itaf4j_Qe",
        "outputId": "4e8bfe4b-3ae3-4916-bd5c-cc3e03928cfb"
      },
      "source": [
        "S = pd.Series(np.random.randint(100,size = 10))\r\n",
        "S"
      ],
      "execution_count": null,
      "outputs": [
        {
          "output_type": "execute_result",
          "data": {
            "text/plain": [
              "0    83\n",
              "1    10\n",
              "2    18\n",
              "3    11\n",
              "4    83\n",
              "5    66\n",
              "6    54\n",
              "7     6\n",
              "8    21\n",
              "9    78\n",
              "dtype: int64"
            ]
          },
          "metadata": {
            "tags": []
          },
          "execution_count": 2
        }
      ]
    },
    {
      "cell_type": "markdown",
      "metadata": {
        "id": "l6CWbHFzkE_y"
      },
      "source": [
        "Câu 2: Hãy tạo 1 đối tượng kiểu Series với giá trị khởi tạo hình thành từ dữ liệu kiểu Dictionary. In kết quả ra màn hình"
      ]
    },
    {
      "cell_type": "code",
      "metadata": {
        "colab": {
          "base_uri": "https://localhost:8080/"
        },
        "id": "mtCmtSYlkIf1",
        "outputId": "3b49fdcc-a61b-457c-ab57-dd751f1a7fba"
      },
      "source": [
        "dict_1 = {'tên':'Hiếu', 'tuổi': 19, 'công việc': 'sinh viên', 'lương': '10 tỷ',}\r\n",
        "D = pd.Series(dict_1)\r\n",
        "D"
      ],
      "execution_count": null,
      "outputs": [
        {
          "output_type": "execute_result",
          "data": {
            "text/plain": [
              "tên               Hiếu\n",
              "tuổi                19\n",
              "công việc    sinh viên\n",
              "lương            10 tỷ\n",
              "dtype: object"
            ]
          },
          "metadata": {
            "tags": []
          },
          "execution_count": 4
        }
      ]
    },
    {
      "cell_type": "markdown",
      "metadata": {
        "id": "GqW6yYX-kfIw"
      },
      "source": [
        "Câu 3: Sử dụng series ở câu 1, hãy thay đổi giá trị của cột index từ kiểu số theo kiểu ký tự với giá trị do bạn tự xác định."
      ]
    },
    {
      "cell_type": "code",
      "metadata": {
        "colab": {
          "base_uri": "https://localhost:8080/"
        },
        "id": "x1NV2DswkgIT",
        "outputId": "989887c0-c66c-442c-a93c-3e384ee3734e"
      },
      "source": [
        "S_id = []\r\n",
        "for i in S.index:\r\n",
        "    S_id.append(f'so thu {i}')\r\n",
        "S_2 = pd.Series(S.values, index=S_id)\r\n",
        "S_2"
      ],
      "execution_count": null,
      "outputs": [
        {
          "output_type": "execute_result",
          "data": {
            "text/plain": [
              "so thu 0    83\n",
              "so thu 1    10\n",
              "so thu 2    18\n",
              "so thu 3    11\n",
              "so thu 4    83\n",
              "so thu 5    66\n",
              "so thu 6    54\n",
              "so thu 7     6\n",
              "so thu 8    21\n",
              "so thu 9    78\n",
              "dtype: int64"
            ]
          },
          "metadata": {
            "tags": []
          },
          "execution_count": 5
        }
      ]
    },
    {
      "cell_type": "markdown",
      "metadata": {
        "id": "LzWNZkr8klD1"
      },
      "source": [
        "Câu 4: Sử dụng series ở câu 2, hãy truy cập đến phần tử thứ 5 và in ra màn hình"
      ]
    },
    {
      "cell_type": "code",
      "metadata": {
        "colab": {
          "base_uri": "https://localhost:8080/"
        },
        "id": "e2vliR7kkn2_",
        "outputId": "d30badf3-d987-448d-f85c-f1c04daf7f54"
      },
      "source": [
        "print(D[3])"
      ],
      "execution_count": null,
      "outputs": [
        {
          "output_type": "stream",
          "text": [
            "10 tỷ\n"
          ],
          "name": "stdout"
        }
      ]
    },
    {
      "cell_type": "markdown",
      "metadata": {
        "id": "awFyK_qnkyn7"
      },
      "source": [
        "Câu 5: Sử dụng series ở câu 3, hãy truy cập đến 1 phần tử dựa theo chỉ số kiểu ký tự do bạn lựa chọn và in ra màn hình\r\n",
        "\r\n"
      ]
    },
    {
      "cell_type": "code",
      "metadata": {
        "colab": {
          "base_uri": "https://localhost:8080/"
        },
        "id": "a8LF3Z8Ak1qS",
        "outputId": "ef18dbc0-d99f-45bb-8a47-f8efd215a166"
      },
      "source": [
        "print(S_2['so thu 2'])"
      ],
      "execution_count": null,
      "outputs": [
        {
          "output_type": "stream",
          "text": [
            "18\n"
          ],
          "name": "stdout"
        }
      ]
    },
    {
      "cell_type": "markdown",
      "metadata": {
        "id": "mjP8C_jok57q"
      },
      "source": [
        "Câu 6: Sử dụng series ở câu 3, hãy tìm ra tính chất đặc thù trong các chỉ số kiểu kí tự, thực hiện vòng lặp for duyệt trên các chỉ mục kiểu kí tự này để lọc ra những phần tử thỏa mãn điều kiện và in ra màn hình\r\n",
        "\r\n"
      ]
    },
    {
      "cell_type": "code",
      "metadata": {
        "colab": {
          "base_uri": "https://localhost:8080/"
        },
        "id": "Fo39XKiYk8hF",
        "outputId": "555681da-97fb-4879-e231-e8075d426017"
      },
      "source": [
        "#Lấy các số thứ (0-4)\r\n",
        "S_2[[int(name[-1]) <4 for name in S_2.index]]"
      ],
      "execution_count": null,
      "outputs": [
        {
          "output_type": "execute_result",
          "data": {
            "text/plain": [
              "so thu 0    83\n",
              "so thu 1    10\n",
              "so thu 2    18\n",
              "so thu 3    11\n",
              "dtype: int64"
            ]
          },
          "metadata": {
            "tags": []
          },
          "execution_count": 9
        }
      ]
    },
    {
      "cell_type": "markdown",
      "metadata": {
        "id": "6MpZDwwzlpxA"
      },
      "source": [
        "Câu 7: Sử dụng chuỗi ở câu 1, hãy đổi chỉ mục cột tên thành 'STT' và đặt tên cho chuỗi là 'Gia_tri'. Trong màn hình kết quả"
      ]
    },
    {
      "cell_type": "code",
      "metadata": {
        "colab": {
          "base_uri": "https://localhost:8080/"
        },
        "id": "A_fDA2ZZlyqr",
        "outputId": "031ec1fc-3f5c-472a-adcb-661b4123fa56"
      },
      "source": [
        "S.index.name = 'STT'\r\n",
        "S.name = 'Gia_tri'\r\n",
        "S"
      ],
      "execution_count": null,
      "outputs": [
        {
          "output_type": "execute_result",
          "data": {
            "text/plain": [
              "STT\n",
              "0    83\n",
              "1    10\n",
              "2    18\n",
              "3    11\n",
              "4    83\n",
              "5    66\n",
              "6    54\n",
              "7     6\n",
              "8    21\n",
              "9    78\n",
              "Name: Gia_tri, dtype: int64"
            ]
          },
          "metadata": {
            "tags": []
          },
          "execution_count": 10
        }
      ]
    },
    {
      "cell_type": "markdown",
      "metadata": {
        "id": "LELxjr9sl6Xl"
      },
      "source": [
        "Câu 8: Hãy áp dụng logarith hàm của gói numpy với chuỗi ở câu 1 và trong màn hình kết quả"
      ]
    },
    {
      "cell_type": "code",
      "metadata": {
        "colab": {
          "base_uri": "https://localhost:8080/"
        },
        "id": "y6uMglPHl7aT",
        "outputId": "170446cd-9d2c-42c4-ea30-f60d1ef04a30"
      },
      "source": [
        "S_log = pd.Series([np.log(gt) for gt in S.values])\r\n",
        "S_log.name = 'logarith'\r\n",
        "S_log"
      ],
      "execution_count": null,
      "outputs": [
        {
          "output_type": "execute_result",
          "data": {
            "text/plain": [
              "0    4.418841\n",
              "1    2.302585\n",
              "2    2.890372\n",
              "3    2.397895\n",
              "4    4.418841\n",
              "5    4.189655\n",
              "6    3.988984\n",
              "7    1.791759\n",
              "8    3.044522\n",
              "9    4.356709\n",
              "Name: logarith, dtype: float64"
            ]
          },
          "metadata": {
            "tags": []
          },
          "execution_count": 11
        }
      ]
    },
    {
      "cell_type": "markdown",
      "metadata": {
        "id": "eoMtP2T0l_iE"
      },
      "source": [
        "Câu 9: Lọc các giá trị của series 1 > 15 và in ra màn hình\r\n",
        "\r\n"
      ]
    },
    {
      "cell_type": "code",
      "metadata": {
        "colab": {
          "base_uri": "https://localhost:8080/"
        },
        "id": "7B_VJK6-mI1m",
        "outputId": "704035cb-011e-4a61-a7e9-4327a7a82486"
      },
      "source": [
        "S[S>15]"
      ],
      "execution_count": null,
      "outputs": [
        {
          "output_type": "execute_result",
          "data": {
            "text/plain": [
              "STT\n",
              "0    83\n",
              "2    18\n",
              "4    83\n",
              "5    66\n",
              "6    54\n",
              "8    21\n",
              "9    78\n",
              "Name: Gia_tri, dtype: int64"
            ]
          },
          "metadata": {
            "tags": []
          },
          "execution_count": 12
        }
      ]
    }
  ]
}